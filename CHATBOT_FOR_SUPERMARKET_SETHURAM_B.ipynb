{
  "cells": [
    {
      "cell_type": "markdown",
      "metadata": {
        "id": "view-in-github",
        "colab_type": "text"
      },
      "source": [
        "<a href=\"https://colab.research.google.com/github/sethuramcbeboy/CHATBOT-FOR-SUPERMARKET/blob/main/CHATBOT_FOR_SUPERMARKET_SETHURAM_B.ipynb\" target=\"_parent\"><img src=\"https://colab.research.google.com/assets/colab-badge.svg\" alt=\"Open In Colab\"/></a>"
      ]
    },
    {
      "cell_type": "markdown",
      "metadata": {
        "id": "BRAqHb0Lqpbt"
      },
      "source": [
        "Importing Libraries\n"
      ]
    },
    {
      "cell_type": "code",
      "execution_count": null,
      "metadata": {
        "id": "K5yEMU05qm4p"
      },
      "outputs": [],
      "source": [
        "import csv\n",
        "import numpy as np\n",
        "import pandas as pd\n",
        "import nltk\n",
        "import string\n",
        "import random\n",
        "import sys\n",
        "import warnings\n",
        "warnings.filterwarnings(\"ignore\")\n",
        "nltk.data.path.append(\"nltk_data\")"
      ]
    },
    {
      "cell_type": "markdown",
      "metadata": {
        "id": "AK7ccTb8rifR"
      },
      "source": [
        "Import and read the corpus code"
      ]
    },
    {
      "cell_type": "code",
      "execution_count": null,
      "metadata": {
        "colab": {
          "base_uri": "https://localhost:8080/"
        },
        "id": "NT4aUdUcrpvw",
        "outputId": "e0577531-7d51-4580-fbb7-557db60768f0"
      },
      "outputs": [
        {
          "output_type": "stream",
          "name": "stdout",
          "text": [
            "[nltk_data] Downloading package punkt to /root/nltk_data...\n",
            "[nltk_data]   Unzipping tokenizers/punkt.zip.\n",
            "[nltk_data] Downloading package wordnet to /root/nltk_data...\n",
            "[nltk_data]   Unzipping corpora/wordnet.zip.\n"
          ]
        }
      ],
      "source": [
        "f=open('/content/chat.txt')\n",
        "raw=f.read()\n",
        "raw=raw.lower()\n",
        "nltk.download('punkt')\n",
        "nltk.download('wordnet')\n",
        "sent_tokens = nltk.sent_tokenize(raw) # converts to list of sentences\n",
        "word_tokens = nltk.word_tokenize(raw) # converts to list of words"
      ]
    },
    {
      "cell_type": "markdown",
      "metadata": {
        "id": "2FAHnnLbvXje"
      },
      "source": [
        "example of sentence tokens"
      ]
    },
    {
      "cell_type": "code",
      "execution_count": null,
      "metadata": {
        "colab": {
          "base_uri": "https://localhost:8080/"
        },
        "id": "gClwSZOYvfYz",
        "outputId": "7b934a37-ee8d-4e76-bb67-93b12e8db3f3"
      },
      "outputs": [
        {
          "output_type": "execute_result",
          "data": {
            "text/plain": [
              "['products price quantity\\n\\ntomato\\n\\nproduct name=tomato,\\nprice/quantity=100/kg,\\nstock=100/kg.',\n",
              " 'potato\\n\\nproduct name=potato,\\nprice/quantity=90/kg,\\nstock=120\\n********************.']"
            ]
          },
          "metadata": {},
          "execution_count": 3
        }
      ],
      "source": [
        "sent_tokens[:2]"
      ]
    },
    {
      "cell_type": "markdown",
      "metadata": {
        "id": "de12L132vo0G"
      },
      "source": [
        "Example of Word Tokens"
      ]
    },
    {
      "cell_type": "code",
      "execution_count": null,
      "metadata": {
        "colab": {
          "base_uri": "https://localhost:8080/"
        },
        "id": "DzSJwNZfv2Up",
        "outputId": "1775e793-003f-49dc-e88b-ac8c79dad5e5"
      },
      "outputs": [
        {
          "output_type": "execute_result",
          "data": {
            "text/plain": [
              "['products', 'price', 'quantity']"
            ]
          },
          "metadata": {},
          "execution_count": 4
        }
      ],
      "source": [
        "word_tokens[:3]"
      ]
    },
    {
      "cell_type": "markdown",
      "metadata": {
        "id": "lPFkVJlrv7yu"
      },
      "source": [
        "text preprocessing"
      ]
    },
    {
      "cell_type": "code",
      "execution_count": null,
      "metadata": {
        "id": "USgIpcmkw370"
      },
      "outputs": [],
      "source": [
        "lemmer = nltk.stem.WordNetLemmatizer()\n",
        "def LemTokens(tokens):\n",
        "  return [lemmer.lemmatize(token) for token in tokens]\n",
        "remove_punct_dict = dict((ord(punct), None) for punct in string.punctuation)\n",
        "def LemNormalize(text):\n",
        "  return LemTokens(nltk.word_tokenize(text.lower().translate(remove_punct_dict)))\n"
      ]
    },
    {
      "cell_type": "markdown",
      "metadata": {
        "id": "2gT8hLbOQsVE"
      },
      "source": [
        "Defining the Greeting Function"
      ]
    },
    {
      "cell_type": "code",
      "execution_count": null,
      "metadata": {
        "id": "5YospmB_QylV"
      },
      "outputs": [],
      "source": [
        "GREETING_INPUTS = (\"hello\", \"hi\", \"greetings\", \"sup\", \"what's up\")\n",
        "GREETING_RESPONSES = [\"\\nHello, Welcome to the StorePurchasingApp. What do you want?\"]\n",
        "\n",
        "def greeting(sentence):\n",
        "  for word in sentence.split():\n",
        "    if word.lower() in GREETING_INPUTS:\n",
        "      return random.choice(GREETING_RESPONSES)"
      ]
    },
    {
      "cell_type": "markdown",
      "metadata": {
        "id": "3lh3QLMQXFu_"
      },
      "source": [
        "Response Generations"
      ]
    },
    {
      "cell_type": "code",
      "execution_count": null,
      "metadata": {
        "id": "WiPmIkV_XJL3"
      },
      "outputs": [],
      "source": [
        "from sklearn.feature_extraction.text import TfidfVectorizer\n",
        "from sklearn.metrics.pairwise import cosine_similarity"
      ]
    },
    {
      "cell_type": "code",
      "execution_count": null,
      "metadata": {
        "id": "1bx8a69hZU0n"
      },
      "outputs": [],
      "source": [
        "def response(user_response):\n",
        "  robo_response='' \n",
        "  TfidfVec = TfidfVectorizer(tokenizer=LemNormalize, stop_words='english')\n",
        "  tfidf = TfidfVec.fit_transform(sent_tokens)\n",
        "  vals = cosine_similarity(tfidf[-1], tfidf)\n",
        "  idx=vals.argsort()[0][-2]\n",
        "  flat = vals.flatten()\n",
        "  flat.sort()\n",
        "  req_tfidf = flat[-2]\n",
        "  if(req_tfidf==0):\n",
        "    robo_response=robo_response+\"\\nI am sorry! I don't understand you\"\n",
        "    return robo_response\n",
        "  else:\n",
        "    robo_response = robo_response+sent_tokens[idx]\n",
        "    robo_response = robo_response.split(\"\\n\",1)[1]\n",
        "    return robo_response.capitalize()"
      ]
    },
    {
      "cell_type": "markdown",
      "metadata": {
        "id": "pA0fKiInzKk9"
      },
      "source": [
        "Importing Table "
      ]
    },
    {
      "cell_type": "markdown",
      "metadata": {
        "id": "2G7YrHkyj0Ch"
      },
      "source": [
        "Defining conversation start/end protocols"
      ]
    },
    {
      "cell_type": "code",
      "execution_count": null,
      "metadata": {
        "colab": {
          "base_uri": "https://localhost:8080/"
        },
        "id": "D3LAggkzj8nK",
        "outputId": "f15cc76b-7acb-46dd-9769-c1d8acb4ac50"
      },
      "outputs": [
        {
          "output_type": "stream",
          "name": "stdout",
          "text": [
            "BOT: let's start a conversation! not wish just type bye\n",
            "hi\n",
            "BOT: \n",
            "Hello, Welcome to the StorePurchasingApp. What do you want?\n",
            "beans\n",
            "BOT: Product name=cluster beans,\n",
            "price/quantity=22/kg,\n",
            "stock=30.\n",
            "bye\n",
            "BOT: Bye! Take care \n"
          ]
        }
      ],
      "source": [
        "flag=True\n",
        "print(\"BOT: let's start a conversation! not wish just type bye\")\n",
        "while(flag==True):\n",
        "  user_response = input()\n",
        "  user_response=user_response.strip()\n",
        "  user_response=user_response.lower()\n",
        "  if(user_response!='bye'):\n",
        "    if(user_response=='thanks' or user_response=='thank you' ):\n",
        "      flag=False\n",
        "      print(\"BOT: You are welcome...\")\n",
        "    else:\n",
        "      if(greeting(user_response)!=None):\n",
        "        print(\"BOT: \"+greeting(user_response))\n",
        "      else:\n",
        "        sent_tokens.append(user_response)\n",
        "        word_tokens=word_tokens+nltk.word_tokenize(user_response)\n",
        "        final_words=list(set(word_tokens))\n",
        "        print(\"BOT: \", end = \"\")\n",
        "        print(response(user_response))\n",
        "        sent_tokens.remove(user_response)\n",
        "  else:\n",
        "    flag=False\n",
        "    print(\"BOT: Bye! Take care \")"
      ]
    }
  ],
  "metadata": {
    "colab": {
      "collapsed_sections": [],
      "provenance": [],
      "include_colab_link": true
    },
    "kernelspec": {
      "display_name": "Python 3",
      "name": "python3"
    },
    "language_info": {
      "name": "python"
    },
    "accelerator": "GPU"
  },
  "nbformat": 4,
  "nbformat_minor": 0
}